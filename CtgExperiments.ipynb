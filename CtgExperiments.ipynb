{
 "cells": [
  {
   "cell_type": "code",
   "execution_count": 1,
   "metadata": {},
   "outputs": [
    {
     "name": "stderr",
     "output_type": "stream",
     "text": [
      "/usr/lib64/python3.6/site-packages/marshmallow/schema.py:364: ChangedInMarshmallow3Warning: strict=False is not recommended. In marshmallow 3.0, schemas will always be strict. See https://marshmallow.readthedocs.io/en/latest/upgrading.html#schemas-are-always-strict\n",
      "  ChangedInMarshmallow3Warning\n"
     ]
    }
   ],
   "source": [
    "from qiskit import ClassicalRegister, QuantumRegister\n",
    "from qiskit import QuantumCircuit,compile, execute,IBMQ\n",
    "from qiskit import BasicAer\n",
    "from qiskit.tools.visualization import circuit_drawer\n",
    "from qiskit.tools.visualization import plot_histogram\n",
    "from qiskit.providers.ibmq import least_busy\n",
    "from math import pi\n",
    "from qiskit.mapper._layout import Layout as Ibmlayout\n",
    "from qiskit.tools.compiler import compile as qcompile\n",
    "import matplotlib.pyplot as plt\n",
    "import sys\n",
    "from qiskit.tools.visualization import circuit_drawer\n",
    "from parseRealization import *\n",
    "from copy import deepcopy\n",
    "%matplotlib inline\n",
    "testDir=\"./tests/\""
   ]
  },
  {
   "cell_type": "code",
   "execution_count": 2,
   "metadata": {},
   "outputs": [
    {
     "name": "stdout",
     "output_type": "stream",
     "text": [
      "[<IBMQBackend('ibmqx4') from IBMQ()>, <IBMQBackend('ibmqx2') from IBMQ()>, <IBMQBackend('ibmq_16_melbourne') from IBMQ()>]\n",
      "[[1, 0], [1, 2], [2, 3], [4, 3], [4, 10], [5, 4], [5, 6], [5, 9], [6, 8], [7, 8], [9, 8], [9, 10], [11, 3], [11, 10], [11, 12], [12, 2], [13, 1], [13, 12]] its length: 18\n"
     ]
    }
   ],
   "source": [
    "#select a backend\n",
    "IBMQ.load_accounts()\n",
    "backends = IBMQ.backends(simulator=False,filters=lambda x: x.configuration().n_qubits > 4)\n",
    "print(backends)\n",
    "#print(available)\n",
    "#least_busy = BasicAer.get_backend('qasm_simulator')\n",
    "least_busy = IBMQ.get_backend('ibmq_16_melbourne')\n",
    "couplingMap = least_busy.configuration().coupling_map\n",
    "print(couplingMap,\"its length:\",len(couplingMap))\n",
    "qubitsSize = least_busy.configuration().n_qubits\n"
   ]
  },
  {
   "cell_type": "code",
   "execution_count": 3,
   "metadata": {},
   "outputs": [],
   "source": [
    "def prepareIBMQLayout(qReg,layout):\n",
    "    ibmLayout = {}\n",
    "    for elem in layout:\n",
    "       # print(\"Element in layout is\",elem,\" physical is\",layout[elem])\n",
    "        quantum = ord(elem)-ord(\"a\")\n",
    "        physical = ord(layout[elem])-ord(\"a\")\n",
    "        quantumTuple = (qReg.name, quantum)\n",
    "        ibmLayout[quantumTuple]=(qReg.name,physical)\n",
    "    #print(\"tempDictionary\",ibmLayout)\n",
    "    #print(\"items are\",ibmLayout.items())\n",
    "    #print(\"IBMLAYOUT\")\n",
    "    #print(ibmLayout)\n",
    "    return ibmLayout\n",
    "\n",
    "def bigFunction(fileName):\n",
    "    ioClass = readCircuitInformation(fileName) \n",
    "    answers = ioClass.getKmap()\n",
    "    size = ioClass.getSize()\n",
    "    ioClass.readGatesFromFile(fileName)\n",
    "    backend_sim = BasicAer.get_backend('qasm_simulator')\n",
    "    error_count = 0\n",
    "    \n",
    "    ctg = CircuitTransitionGraph()\n",
    "    tempStuff = ctg.transformCoupling(couplingMap)\n",
    "    print(tempStuff,len(tempStuff))\n",
    "    ctg.setSize(size)\n",
    "   \n",
    "    leastCost = 2000000\n",
    "    defaultIBMCost = 100000\n",
    "    finalAnswer = []\n",
    "    finalLayout = []\n",
    "    costHistory =[]\n",
    "    ibmCostHistory = []\n",
    "    for i in range(0,1):\n",
    "        epoch = 0\n",
    "        #This part corresponds for part of experiment without minimal or no changes\n",
    "        while epoch < 10:\n",
    "            print(\"Epoch number:\",epoch)\n",
    "            print(\"Current layout of ctg is:\",ctg.layout)\n",
    "            tempLayout = ctg.layout.copy()\n",
    "            qr,cr,qc = ioClass.createCircuitAndSetInput(i)\n",
    "            ibmLayout = prepareIBMQLayout(qr,tempLayout)\n",
    "            qc,qr = ctg.readGatesFromIOClass(qr,qc, ioClass)\n",
    "            if epoch==0:\n",
    "                defaultIBMCost = measureFidelityWithoutChanges(qr,cr,qc)\n",
    "            ctg = fixTheStuff(ctg)\n",
    "            #This one needs to comply with changes you did\n",
    "            #qc,qr = ctg.readFixedGatesFromCtg(qr,qc)\n",
    "           \n",
    "            qr,cr,qc = ioClass.createCircuitAndSetInput(i)\n",
    "            qc,qr = ctg.readFixedGatesFromCtg(qr,qc)\n",
    "            ibmLayout = prepareIBMQLayout(qr,tempLayout)\n",
    "            tempCost = compileToSeeCost(qr,cr,qc,ioClass,ibmLayout,i)\n",
    "            ibmCostHistory.append(tempCost)\n",
    "            costHistory.append(len(ctg.lines))\n",
    "            if tempCost < leastCost:\n",
    "                finalAnswer = deepcopy(ctg.lines)\n",
    "                finalLayout = deepcopy(tempLayout)\n",
    "                leastCost = tempCost\n",
    "            #measureToVerifyOutputWtihChanges(qr,cr,qc,ioClass,ibmLayout,i)\n",
    "            ctg.layOutQubits()\n",
    "            epoch = epoch+1\n",
    "    for i in range(0,len(costHistory)):\n",
    "        for j in range(0,len(costHistory)):\n",
    "            if costHistory[i] < costHistory[j]:\n",
    "                tempI = ibmCostHistory[j]\n",
    "                temp = costHistory[j]\n",
    "                costHistory[j]=costHistory[i]\n",
    "                ibmCostHistory[j]=ibmCostHistory[i]\n",
    "                costHistory[i] = temp\n",
    "                ibmCostHistory[i] = tempI\n",
    "    print(\"Default IBM cost is:\",defaultIBMCost)\n",
    "    print(\"FinalAnswer is:\", finalAnswer)\n",
    "    print(\"FinalAnswer finalLayout:\", finalLayout)\n",
    "    print(\"FinalAnswer cost is:\",leastCost)\n",
    "    print(\"CostHistory is:\",costHistory)\n",
    "    print(\"IBMCostHistory is:\",ibmCostHistory)   \n",
    "   \n",
    "    plt.plot(ibmCostHistory,costHistory)\n",
    "\n",
    "    \n",
    "def fixTheStuff(ctg):\n",
    "    print(\"Missing connections are\",ctg.getMissingConnections())\n",
    "    #This one to fix the changes... fixthemissingedges connects stuff around. did not test though\n",
    "    ctg.fixMissingEdges()\n",
    "    #print(\"FIxing the stuff\")\n",
    "    return ctg\n",
    "\n",
    "\n",
    "def  compileToSeeCost(qr,cr,qc,ioClass,ibmLayout,i):\n",
    "    #least_busy = BasicAer.get_backend('qasm_simulator')\n",
    "    qc.measure(qr,cr)\n",
    "    qobj = qcompile(qc,least_busy,initial_layout=ibmLayout,pass_manager=None)\n",
    "    #This line provides print of the compiled circuit qasm\n",
    "    print(\"Length of IBM compiled circuit with fixes is:\",len(qobj.experiments[0].header.as_dict()[\"compiled_circuit_qasm\"]))\n",
    "    return len(qobj.experiments[0].header.as_dict()[\"compiled_circuit_qasm\"])\n",
    "    #job = execute(qc,least_busy,shots=200)\n",
    "    #result = job.result()\n",
    "    #print(result.get_counts())\n",
    "    #plot_histogram(result.get_counts())\n",
    "    \n",
    "def measureFidelityWithoutChanges(qr,cr,qc):\n",
    "    #least_busy = BasicAer.get_backend('qasm_simulator')\n",
    "    qc.measure(qr,cr)\n",
    "    \n",
    "    qobj = qcompile(qc,least_busy,initial_layout=None,pass_manager=None)\n",
    "    #This line provides print of the compiled circuit qasm\n",
    "    print(\"Length of IBM compiled circuit is:\",len(qobj.experiments[0].header.as_dict()[\"compiled_circuit_qasm\"]))\n",
    "    return len(qobj.experiments[0].header.as_dict()[\"compiled_circuit_qasm\"])\n",
    "#This needs to be implemented    \n",
    "def measureToVerifyOutputWtihChanges(qr,cr,qc,ioClass,ibmLayout,i):\n",
    "    least_busy = BasicAer.get_backend('qasm_simulator')\n",
    "    qc.measure(qr,cr)\n",
    "    job = execute(qc,least_busy,initial_layout=ibmLayout,shots=300)\n",
    "    result = job.result()\n",
    "    print(result.get_counts())\n",
    "    error = ioClass.checkOutputs(result.get_counts(),i)\n",
    "    if error != 0 :\n",
    "        print(\"ERROR APPEARED\")\n",
    "        raise SystemError\n",
    "    #plot_histogram(result.get_counts())\n"
   ]
  },
  {
   "cell_type": "code",
   "execution_count": null,
   "metadata": {
    "scrolled": false
   },
<<<<<<< HEAD
   "outputs": [
    {
     "name": "stdout",
     "output_type": "stream",
     "text": [
      "./tests/hwb4_49.pla\n",
      "The constants are set to .constants ----\n",
      "\n",
      "The circuit has no garbage lines in it or file parsed incorrectly, check ioclass\n",
      "The circuit has no constant inputs lines in it or file parsed incorrectly, check ioclass\n",
      "['ab', 'bc', 'cd', 'de', 'ek', 'ef', 'fg', 'fj', 'gi', 'hi', 'ij', 'jk', 'dl', 'kl', 'lm', 'cm', 'bn', 'mn'] 18\n",
      "Epoch number: 0\n",
      "Current layout of ctg is: {'a': 'a', 'b': 'b', 'c': 'c', 'd': 'd'}\n",
      "Ohhh LaLa\n",
      "Ohhh LaLa\n",
      "Length of IBM compiled circuit is: 12910\n",
      "Missing connections are [['b', 'd'], ['a', 'd'], ['a', 'd']]\n",
      "Lines are: ['sw b c', 't2 d c', 'sw b c', 't2 c d\\n', 't2 d c\\n', 't3 a d c\\n', 't3 c d a\\n', 't4 b c d a\\n', 't3 b d a\\n', 't4 a b c d\\n', 't3 a d c\\n', 'sw a b', 'sw b c', 't2 d c', 'sw b c', 'sw a b', 't3 a c d\\n', 't3 a b d\\n', 'sw a b', 'sw b c', 't2 d c', 'sw b c', 'sw a b', 't2 b c\\n', 't2 c b\\n', 't2 a b\\n', 't2 b a\\n']  length of lines is: 27\n",
      "Length of IBM compiled circuit with fixes is: 8395\n",
      "Epoch number: 1\n",
      "Current layout of ctg is: {'c': 'm', 'd': 'c', 'b': 'n', 'a': 'b'}\n",
      "Ohhh LaLa\n",
      "Ohhh LaLa\n",
      "Missing connections are [['b', 'd']]\n",
      "Lines are: ['sw b a', 't2 d a', 'sw b a', 't2 c d\\n', 't2 d c\\n', 't3 a d c\\n', 't3 c d a\\n', 't4 b c d a\\n', 't3 b d a\\n', 't4 a b c d\\n', 't3 a d c\\n', 't2 d a\\n', 't3 a c d\\n', 't3 a b d\\n', 't2 d a\\n', 't2 b c\\n', 't2 c b\\n', 't2 a b\\n', 't2 b a\\n']  length of lines is: 19\n",
      "Length of IBM compiled circuit with fixes is: 7755\n",
      "Epoch number: 2\n",
      "Current layout of ctg is: {'c': 'm', 'd': 'c', 'b': 'n', 'a': 'l'}\n",
      "Ohhh LaLa\n",
      "Ohhh LaLa\n",
      "Missing connections are [['b', 'd'], ['a', 'd'], ['a', 'd'], ['a', 'b'], ['a', 'b']]\n",
      "Lines are: ['sw b c', 't2 d c', 'sw b c', 't2 c d\\n', 't2 d c\\n', 't3 a d c\\n', 't3 c d a\\n', 't4 b c d a\\n', 't3 b d a\\n', 't4 a b c d\\n', 't3 a d c\\n', 'sw a c', 't2 d c', 'sw a c', 't3 a c d\\n', 't3 a b d\\n', 'sw a c', 't2 d c', 'sw a c', 't2 b c\\n', 't2 c b\\n', 'sw a c', 't2 c b', 'sw a c', 'sw a c', 't2 b c', 'sw a c']  length of lines is: 27\n",
      "Length of IBM compiled circuit with fixes is: 15386\n",
      "Epoch number: 3\n",
      "Current layout of ctg is: {'c': 'm', 'd': 'c', 'b': 'n'}\n",
      "Ohhh LaLa\n",
      "Ohhh LaLa\n"
     ]
    },
    {
     "ename": "KeyError",
     "evalue": "'a'",
     "output_type": "error",
     "traceback": [
      "\u001b[0;31m---------------------------------------------------------------------------\u001b[0m",
      "\u001b[0;31mKeyError\u001b[0m                                  Traceback (most recent call last)",
      "\u001b[0;32m<ipython-input-4-dbcedd03e178>\u001b[0m in \u001b[0;36m<module>\u001b[0;34m\u001b[0m\n\u001b[1;32m      3\u001b[0m \u001b[0;31m#if testFromFile(filename) == 0:\u001b[0m\u001b[0;34m\u001b[0m\u001b[0;34m\u001b[0m\u001b[0;34m\u001b[0m\u001b[0m\n\u001b[1;32m      4\u001b[0m \u001b[0mfileName\u001b[0m \u001b[0;34m=\u001b[0m \u001b[0mtestDir\u001b[0m\u001b[0;34m+\u001b[0m\u001b[0mfileName\u001b[0m\u001b[0;34m\u001b[0m\u001b[0;34m\u001b[0m\u001b[0m\n\u001b[0;32m----> 5\u001b[0;31m \u001b[0mbigFunction\u001b[0m\u001b[0;34m(\u001b[0m\u001b[0mfileName\u001b[0m\u001b[0;34m)\u001b[0m\u001b[0;34m\u001b[0m\u001b[0;34m\u001b[0m\u001b[0m\n\u001b[0m",
      "\u001b[0;32m<ipython-input-3-6797bee6550f>\u001b[0m in \u001b[0;36mbigFunction\u001b[0;34m(fileName)\u001b[0m\n\u001b[1;32m     44\u001b[0m             \u001b[0;32mif\u001b[0m \u001b[0mepoch\u001b[0m\u001b[0;34m==\u001b[0m\u001b[0;36m0\u001b[0m\u001b[0;34m:\u001b[0m\u001b[0;34m\u001b[0m\u001b[0;34m\u001b[0m\u001b[0m\n\u001b[1;32m     45\u001b[0m                 \u001b[0mdefaultIBMCost\u001b[0m \u001b[0;34m=\u001b[0m \u001b[0mmeasureFidelityWithoutChanges\u001b[0m\u001b[0;34m(\u001b[0m\u001b[0mqr\u001b[0m\u001b[0;34m,\u001b[0m\u001b[0mcr\u001b[0m\u001b[0;34m,\u001b[0m\u001b[0mqc\u001b[0m\u001b[0;34m)\u001b[0m\u001b[0;34m\u001b[0m\u001b[0;34m\u001b[0m\u001b[0m\n\u001b[0;32m---> 46\u001b[0;31m             \u001b[0mctg\u001b[0m \u001b[0;34m=\u001b[0m \u001b[0mfixTheStuff\u001b[0m\u001b[0;34m(\u001b[0m\u001b[0mctg\u001b[0m\u001b[0;34m)\u001b[0m\u001b[0;34m\u001b[0m\u001b[0;34m\u001b[0m\u001b[0m\n\u001b[0m\u001b[1;32m     47\u001b[0m             \u001b[0;31m#This one needs to comply with changes you did\u001b[0m\u001b[0;34m\u001b[0m\u001b[0;34m\u001b[0m\u001b[0;34m\u001b[0m\u001b[0m\n\u001b[1;32m     48\u001b[0m             \u001b[0;31m#qc,qr = ctg.readFixedGatesFromCtg(qr,qc)\u001b[0m\u001b[0;34m\u001b[0m\u001b[0;34m\u001b[0m\u001b[0;34m\u001b[0m\u001b[0m\n",
      "\u001b[0;32m<ipython-input-3-6797bee6550f>\u001b[0m in \u001b[0;36mfixTheStuff\u001b[0;34m(ctg)\u001b[0m\n\u001b[1;32m     81\u001b[0m \u001b[0;34m\u001b[0m\u001b[0m\n\u001b[1;32m     82\u001b[0m \u001b[0;32mdef\u001b[0m \u001b[0mfixTheStuff\u001b[0m\u001b[0;34m(\u001b[0m\u001b[0mctg\u001b[0m\u001b[0;34m)\u001b[0m\u001b[0;34m:\u001b[0m\u001b[0;34m\u001b[0m\u001b[0;34m\u001b[0m\u001b[0m\n\u001b[0;32m---> 83\u001b[0;31m     \u001b[0mprint\u001b[0m\u001b[0;34m(\u001b[0m\u001b[0;34m\"Missing connections are\"\u001b[0m\u001b[0;34m,\u001b[0m\u001b[0mctg\u001b[0m\u001b[0;34m.\u001b[0m\u001b[0mgetMissingConnections\u001b[0m\u001b[0;34m(\u001b[0m\u001b[0;34m)\u001b[0m\u001b[0;34m)\u001b[0m\u001b[0;34m\u001b[0m\u001b[0;34m\u001b[0m\u001b[0m\n\u001b[0m\u001b[1;32m     84\u001b[0m     \u001b[0;31m#This one to fix the changes... fixthemissingedges connects stuff around. did not test though\u001b[0m\u001b[0;34m\u001b[0m\u001b[0;34m\u001b[0m\u001b[0;34m\u001b[0m\u001b[0m\n\u001b[1;32m     85\u001b[0m     \u001b[0mctg\u001b[0m\u001b[0;34m.\u001b[0m\u001b[0mfixMissingEdges\u001b[0m\u001b[0;34m(\u001b[0m\u001b[0;34m)\u001b[0m\u001b[0;34m\u001b[0m\u001b[0;34m\u001b[0m\u001b[0m\n",
      "\u001b[0;32m~/codes/circuit-graph/CircuitTransitionGraph.py\u001b[0m in \u001b[0;36mgetMissingConnections\u001b[0;34m(self)\u001b[0m\n\u001b[1;32m     44\u001b[0m         \u001b[0;31m#print(\"Self skeleton is\",self.sk)\u001b[0m\u001b[0;34m\u001b[0m\u001b[0;34m\u001b[0m\u001b[0;34m\u001b[0m\u001b[0m\n\u001b[1;32m     45\u001b[0m         \u001b[0;32mfor\u001b[0m \u001b[0mi\u001b[0m \u001b[0;32min\u001b[0m \u001b[0mself\u001b[0m\u001b[0;34m.\u001b[0m\u001b[0msk\u001b[0m\u001b[0;34m:\u001b[0m\u001b[0;34m\u001b[0m\u001b[0;34m\u001b[0m\u001b[0m\n\u001b[0;32m---> 46\u001b[0;31m             \u001b[0mqubitFrom\u001b[0m \u001b[0;34m=\u001b[0m\u001b[0mself\u001b[0m\u001b[0;34m.\u001b[0m\u001b[0mlayout\u001b[0m\u001b[0;34m[\u001b[0m\u001b[0mi\u001b[0m\u001b[0;34m[\u001b[0m\u001b[0;36m0\u001b[0m\u001b[0;34m]\u001b[0m\u001b[0;34m]\u001b[0m\u001b[0;34m\u001b[0m\u001b[0;34m\u001b[0m\u001b[0m\n\u001b[0m\u001b[1;32m     47\u001b[0m             \u001b[0mqubitTo\u001b[0m \u001b[0;34m=\u001b[0m \u001b[0mself\u001b[0m\u001b[0;34m.\u001b[0m\u001b[0mlayout\u001b[0m\u001b[0;34m[\u001b[0m\u001b[0mi\u001b[0m\u001b[0;34m[\u001b[0m\u001b[0;36m1\u001b[0m\u001b[0;34m]\u001b[0m\u001b[0;34m]\u001b[0m\u001b[0;34m\u001b[0m\u001b[0;34m\u001b[0m\u001b[0m\n\u001b[1;32m     48\u001b[0m             \u001b[0;32mif\u001b[0m \u001b[0;34m(\u001b[0m\u001b[0mt\u001b[0m\u001b[0;34m.\u001b[0m\u001b[0mget\u001b[0m\u001b[0;34m(\u001b[0m\u001b[0mqubitFrom\u001b[0m\u001b[0;34m)\u001b[0m\u001b[0;34m!=\u001b[0m \u001b[0;32mNone\u001b[0m\u001b[0;34m)\u001b[0m\u001b[0;34m:\u001b[0m\u001b[0;34m\u001b[0m\u001b[0;34m\u001b[0m\u001b[0m\n",
      "\u001b[0;31mKeyError\u001b[0m: 'a'"
     ]
    }
   ],
   "source": [
    "goodExamples = [\"0410184\",\"ex1\",\"hwb4_52\",\"parity\",\"graycode6_47\",\"hwb4_49\"]\n",
    "fileName=goodExamples[5]\n",
=======
   "outputs": [],
   "source": [
    "goodExamples = [\"0410184\",\"ex1\",\"hwb4_52\",\"parity\"]\n",
    "fileName=goodExamples[0]\n",
>>>>>>> f099cc6b535b982143238510a3cc9ce08cf83e30
    "#if testFromFile(filename) == 0:\n",
    "fileName = testDir+fileName\n",
    "bigFunction(fileName)"
   ]
  }
 ],
 "metadata": {
  "kernelspec": {
   "display_name": "Python 3",
   "language": "python",
   "name": "python3"
  },
  "language_info": {
   "codemirror_mode": {
    "name": "ipython",
    "version": 3
   },
   "file_extension": ".py",
   "mimetype": "text/x-python",
   "name": "python",
   "nbconvert_exporter": "python",
   "pygments_lexer": "ipython3",
   "version": "3.6.7"
  }
 },
 "nbformat": 4,
 "nbformat_minor": 2
}
