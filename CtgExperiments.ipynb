{
 "cells": [
  {
   "cell_type": "code",
   "execution_count": 1,
   "metadata": {},
   "outputs": [
    {
     "name": "stderr",
     "output_type": "stream",
     "text": [
      "C:\\Users\\krylo\\Anaconda3\\lib\\site-packages\\marshmallow\\schema.py:364: ChangedInMarshmallow3Warning: strict=False is not recommended. In marshmallow 3.0, schemas will always be strict. See https://marshmallow.readthedocs.io/en/latest/upgrading.html#schemas-are-always-strict\n",
      "  ChangedInMarshmallow3Warning\n"
     ]
    }
   ],
   "source": [
    "from qiskit import ClassicalRegister, QuantumRegister\n",
    "from qiskit import QuantumCircuit,compile, execute,IBMQ\n",
    "from qiskit import BasicAer\n",
    "from qiskit.tools.visualization import circuit_drawer\n",
    "from qiskit.tools.visualization import plot_histogram\n",
    "from qiskit.providers.ibmq import least_busy\n",
    "from math import pi\n",
    "from qiskit.mapper._layout import Layout as Ibmlayout\n",
    "from qiskit.tools.compiler import compile as qcompile\n",
    "import matplotlib.pyplot as plt\n",
    "import sys\n",
    "from qiskit.tools.visualization import circuit_drawer\n",
    "from parseRealization import *\n",
    "from copy import deepcopy\n",
    "%matplotlib inline\n",
    "testDir=\"./tests/\""
   ]
  },
  {
   "cell_type": "code",
   "execution_count": 2,
   "metadata": {},
   "outputs": [
    {
     "name": "stdout",
     "output_type": "stream",
     "text": [
      "[<IBMQBackend('ibmqx4') from IBMQ()>, <IBMQBackend('ibmqx2') from IBMQ()>, <IBMQBackend('ibmq_16_melbourne') from IBMQ()>]\n",
      "[[1, 0], [2, 0], [2, 1], [3, 2], [3, 4], [4, 2]] its length: 6\n",
      "[[1, 0], [1, 2], [2, 3], [4, 3], [4, 10], [5, 4], [5, 6], [5, 9], [6, 8], [7, 8], [9, 8], [9, 10], [11, 3], [11, 10], [11, 12], [12, 2], [13, 1], [13, 12]] its length: 18\n"
     ]
    }
   ],
   "source": [
    "#select a backend\n",
    "IBMQ.load_accounts()\n",
    "backends = IBMQ.backends(simulator=False,filters=lambda x: x.configuration().n_qubits > 4)\n",
    "print(backends)\n",
    "#print(available)\n",
    "#least_busy = BasicAer.get_backend('qasm_simulator')\n",
    "least_busy = IBMQ.get_backend('ibmqx4')\n",
    "couplingMap = least_busy.configuration().coupling_map\n",
    "print(couplingMap,\"its length:\",len(couplingMap))\n",
    "least_busy = IBMQ.get_backend('ibmq_16_melbourne')\n",
    "couplingMap = least_busy.configuration().coupling_map\n",
    "print(couplingMap,\"its length:\",len(couplingMap))\n",
    "qubitsSize = least_busy.configuration().n_qubits\n"
   ]
  },
  {
   "cell_type": "code",
   "execution_count": 3,
   "metadata": {},
   "outputs": [],
   "source": [
    "def prepareIBMQLayout(qReg,layout):\n",
    "    ibmLayout = {}\n",
    "    for elem in layout:\n",
    "       # print(\"Element in layout is\",elem,\" physical is\",layout[elem])\n",
    "        quantum = ord(elem)-ord(\"a\")\n",
    "        physical = ord(layout[elem])-ord(\"a\")\n",
    "        quantumTuple = (qReg.name, quantum)\n",
    "        ibmLayout[quantumTuple]=(qReg.name,physical)\n",
    "    #print(\"tempDictionary\",ibmLayout)\n",
    "    #print(\"items are\",ibmLayout.items())\n",
    "    #print(\"IBMLAYOUT\")\n",
    "    #print(ibmLayout)\n",
    "    return ibmLayout\n",
    "\n",
    "def bigFunction(fileName):\n",
    "    ioClass = readCircuitInformation(fileName) \n",
    "    answers = ioClass.getKmap()\n",
    "\n",
    "    ioClass.readGatesFromFile(fileName)\n",
    "    size = ioClass.getSize()\n",
    "    backend_sim = BasicAer.get_backend('qasm_simulator')\n",
    "    error_count = 0\n",
    "    \n",
    "    ctg = CircuitTransitionGraph()\n",
    "    tempStuff = ctg.transformCoupling(couplingMap)\n",
    "    print(tempStuff,len(tempStuff))\n",
    "    ctg.setSize(size)\n",
    "   \n",
    "    leastCost = 2000000\n",
    "    defaultIBMCost = 100000\n",
    "    finalAnswer = []\n",
    "    finalLayout = []\n",
    "    costHistory =[]\n",
    "    ibmCostHistory = []\n",
    "    for i in range(0,2):\n",
    "        epoch = 0\n",
    "        #This part corresponds for part of experiment without minimal or no changes\n",
    "        while epoch < 10:\n",
    "            print(\"Epoch number:\",epoch)\n",
    "            print(\"Current layout of ctg is:\",ctg.layout)\n",
    "            tempLayout = ctg.layout.copy()\n",
    "            qr,cr,qc = ioClass.createCircuitAndSetInput(i)\n",
    "            ibmLayout = prepareIBMQLayout(qr,tempLayout)\n",
    "            qc,qr = ctg.readGatesFromIOClass(qr,qc, ioClass)\n",
    "            if epoch==0:\n",
    "                defaultIBMCost = measureFidelityWithoutChanges(qr,cr,qc)\n",
    "            ctg = fixTheStuff(ctg)\n",
    "            #This one needs to comply with changes you did\n",
    "            #qc,qr = ctg.readFixedGatesFromCtg(qr,qc)\n",
    "           \n",
    "            qr,cr,qc = ioClass.createCircuitAndSetInput(i)\n",
    "            qc,qr = ctg.readFixedGatesFromCtg(qr,qc)\n",
    "            ibmLayout = prepareIBMQLayout(qr,tempLayout)\n",
    "            tempCost = compileToSeeCost(qr,cr,qc,ioClass,ibmLayout,i)\n",
    "            ibmCostHistory.append(tempCost)\n",
    "            costHistory.append(len(ctg.lines))\n",
    "            if tempCost < leastCost:\n",
    "                finalAnswer = deepcopy(ctg.lines)\n",
    "                finalLayout = deepcopy(tempLayout)\n",
    "                leastCost = tempCost\n",
    "            measureToVerifyOutputWtihChanges(qr,cr,qc,ioClass,ibmLayout,i)\n",
    "            ctg.layOutQubits()\n",
    "            epoch = epoch+1\n",
    "    for i in range(0,len(costHistory)):\n",
    "        for j in range(0,len(costHistory)):\n",
    "            if costHistory[i] < costHistory[j]:\n",
    "                tempI = ibmCostHistory[j]\n",
    "                temp = costHistory[j]\n",
    "                costHistory[j]=costHistory[i]\n",
    "                ibmCostHistory[j]=ibmCostHistory[i]\n",
    "                costHistory[i] = temp\n",
    "                ibmCostHistory[i] = tempI\n",
    "    print(\"Default IBM cost is:\",defaultIBMCost)\n",
    "    print(\"FinalAnswer is:\", finalAnswer)\n",
    "    print(\"FinalAnswer finalLayout:\", finalLayout)\n",
    "    print(\"FinalAnswer cost is:\",leastCost)\n",
    "    print(\"CostHistory is:\",costHistory)\n",
    "    print(\"IBMCostHistory is:\",ibmCostHistory)   \n",
    "   \n",
    "    plt.plot(ibmCostHistory,costHistory)\n",
    "\n",
    "    \n",
    "def fixTheStuff(ctg):\n",
    "    print(\"Missing connections are\",ctg.getMissingConnections())\n",
    "    #This one to fix the changes... fixthemissingedges connects stuff around. did not test though\n",
    "    ctg.fixMissingEdges()\n",
    "    #print(\"FIxing the stuff\")\n",
    "    return ctg\n",
    "\n",
    "\n",
    "def  compileToSeeCost(qr,cr,qc,ioClass,ibmLayout,i):\n",
    "    #least_busy = BasicAer.get_backend('qasm_simulator')\n",
    "    qc.measure(qr,cr)\n",
    "    qobj = qcompile(qc,least_busy,initial_layout=ibmLayout,pass_manager=None)\n",
    "    #This line provides print of the compiled circuit qasm\n",
    "    print(\"Length of IBM compiled circuit with fixes is:\",len(qobj.experiments[0].header.as_dict()[\"compiled_circuit_qasm\"]))\n",
    "    return len(qobj.experiments[0].header.as_dict()[\"compiled_circuit_qasm\"])\n",
    "    #job = execute(qc,least_busy,shots=200)\n",
    "    #result = job.result()\n",
    "    #print(result.get_counts())\n",
    "    #plot_histogram(result.get_counts())\n",
    "    \n",
    "def measureFidelityWithoutChanges(qr,cr,qc):\n",
    "    #least_busy = BasicAer.get_backend('qasm_simulator')\n",
    "    qc.measure(qr,cr)\n",
    "    \n",
    "    qobj = qcompile(qc,least_busy,initial_layout=None,pass_manager=None)\n",
    "    #This line provides print of the compiled circuit qasm\n",
    "    print(\"Length of IBM compiled circuit is:\",len(qobj.experiments[0].header.as_dict()[\"compiled_circuit_qasm\"]))\n",
    "    return len(qobj.experiments[0].header.as_dict()[\"compiled_circuit_qasm\"])\n",
    "#This needs to be implemented    \n",
    "def measureToVerifyOutputWtihChanges(qr,cr,qc,ioClass,ibmLayout,i):\n",
    "    least_busy = BasicAer.get_backend('qasm_simulator')\n",
    "    qc.measure(qr,cr)\n",
    "    job = execute(qc,least_busy,initial_layout=ibmLayout,shots=300)\n",
    "    result = job.result()\n",
    "    print(result.get_counts())\n",
    "    error = ioClass.checkOutputs(result.get_counts(),i)\n",
    "    if error != 0 :\n",
    "        print(\"ERROR APPEARED\")\n",
    "        raise SystemError\n",
    "    #plot_histogram(result.get_counts())\n"
   ]
  },
  {
   "cell_type": "code",
   "execution_count": 4,
   "metadata": {
    "scrolled": false
   },
   "outputs": [
    {
     "name": "stdout",
     "output_type": "stream",
     "text": [
      "./tests/sym6_63.pla\n",
      "The constants are set to .constants ------00000010\n",
      "\n",
      "The circuit has garbage lines in it or file parsed incorrectly, check ioclass\n",
      "The circuit has constant inputs in it or file parsed incorrectly, check ioclass\n",
      "['ab', 'bc', 'cd', 'de', 'ek', 'ef', 'fg', 'fj', 'gi', 'hi', 'ij', 'jk', 'dl', 'kl', 'lm', 'cm', 'bn', 'mn'] 18\n",
      "Epoch number: 0\n",
      "Current layout of ctg is: {'a': 'a', 'b': 'b', 'c': 'c', 'd': 'd', 'e': 'e', 'f': 'f', 'g': 'g', 'h': 'h', 'i': 'i', 'j': 'j', 'k': 'k', 'l': 'l', 'm': 'm', 'n': 'n'}\n",
      "Length of IBM compiled circuit is: 71549\n",
      "Self skeleton is ['ag', 'ab', 'bc', 'cd', 'de', 'ef', 'fg', 'fg', 'ef', 'fg', 'fg', 'ef', 'fg', 'fg', 'ef', 'de', 'cd', 'bc', 'ab', 'fg', 'fg', 'ab', 'bc', 'cd', 'de', 'ef', 'fg', 'gh', 'gh', 'fg', 'gh', 'gh', 'fg', 'gh', 'gh', 'fg', 'ef', 'de', 'cd', 'bc', 'ab', 'fg', 'hi', 'gh', 'ef', 'fg', 'gh', 'hi', 'hi', 'gh', 'hi', 'hi', 'gh', 'hi', 'hi', 'gh', 'fg', 'ef', 'gh', 'ef', 'fg', 'gh', 'hi', 'hi', 'gh', 'hi', 'hi', 'gh', 'hi', 'hi', 'gh', 'fg', 'ef', 'hi', 'ef', 'fg', 'gh', 'hi', 'ij', 'ij', 'hi', 'ij', 'ij', 'hi', 'ij', 'ij', 'hi', 'gh', 'fg', 'ef', 'hi', 'jk', 'ij', 'bc', 'cd', 'de', 'ef', 'fg', 'gh', 'hi', 'ij', 'jk', 'jk', 'ij', 'jk', 'jk', 'ij', 'jk', 'jk', 'ij', 'hi', 'gh', 'fg', 'ef', 'de', 'cd', 'bc', 'ij', 'bc', 'cd', 'de', 'ef', 'fg', 'gh', 'hi', 'ij', 'jk', 'jk', 'ij', 'jk', 'jk', 'ij', 'jk', 'jk', 'ij', 'hi', 'gh', 'fg', 'ef', 'de', 'cd', 'bc', 'el', 'gh', 'hi', 'ij', 'jk', 'ef', 'fg', 'gh', 'hi', 'ij', 'jk', 'kl', 'kl', 'jk', 'kl', 'kl', 'jk', 'kl', 'kl', 'jk', 'ij', 'hi', 'gh', 'fg', 'ef', 'jk', 'ij', 'hi', 'gh', 'gl', 'bm', 'lm', 'jk', 'kl', 'bc', 'cd', 'de', 'ef', 'fg', 'gh', 'hi', 'ij', 'jk', 'kl', 'lm', 'lm', 'kl', 'lm', 'lm', 'kl', 'lm', 'lm', 'kl', 'jk', 'ij', 'hi', 'gh', 'fg', 'ef', 'de', 'cd', 'bc', 'kl', 'jk', 'bc', 'cd', 'de', 'ef', 'fg', 'gh', 'hi', 'ij', 'jk', 'kl', 'lm', 'lm', 'kl', 'lm', 'lm', 'kl', 'lm', 'lm', 'kl', 'jk', 'ij', 'hi', 'gh', 'fg', 'ef', 'de', 'cd', 'bc', 'mn', 'kl', 'lm', 'de', 'ef', 'fg', 'gh', 'hi', 'ij', 'jk', 'kl', 'lm', 'mn', 'mn', 'lm', 'mn', 'mn', 'lm', 'mn', 'mn', 'lm', 'kl', 'jk', 'ij', 'hi', 'gh', 'fg', 'ef', 'de', 'lm', 'kl', 'de', 'ef', 'fg', 'gh', 'hi', 'ij', 'jk', 'kl', 'lm', 'mn', 'mn', 'lm', 'mn', 'mn', 'lm', 'mn', 'mn', 'lm', 'kl', 'jk', 'ij', 'hi', 'gh', 'fg', 'ef', 'de', 'il', 'ij', 'jk', 'kl', 'bc', 'cd', 'de', 'ef', 'fg', 'gh', 'hi', 'ij', 'jk', 'kl', 'kl', 'jk', 'kl', 'kl', 'jk', 'kl', 'kl', 'jk', 'ij', 'hi', 'gh', 'fg', 'ef', 'de', 'cd', 'bc', 'kl', 'jk', 'ij', 'ij', 'jk', 'kl', 'de', 'ef', 'fg', 'gh', 'hi', 'ij', 'jk', 'kl', 'lm', 'lm', 'kl', 'lm', 'lm', 'kl', 'lm', 'lm', 'kl', 'jk', 'ij', 'hi', 'gh', 'fg', 'ef', 'de', 'kl', 'jk', 'ij', 'ij', 'jk', 'kl', 'lm', 'de', 'ef', 'fg', 'gh', 'hi', 'ij', 'jk', 'kl', 'lm', 'lm', 'kl', 'lm', 'lm', 'kl', 'lm', 'lm', 'kl', 'jk', 'ij', 'hi', 'gh', 'fg', 'ef', 'de', 'lm', 'kl', 'jk', 'ij', 'in', 'ij', 'jk', 'kl', 'lm', 'mn', 'cd', 'de', 'ef', 'fg', 'gh', 'hi', 'ij', 'jk', 'kl', 'lm', 'mn', 'mn', 'lm', 'mn', 'mn', 'lm', 'mn', 'mn', 'lm', 'kl', 'jk', 'ij', 'hi', 'gh', 'fg', 'ef', 'de', 'cd', 'mn', 'lm', 'kl', 'jk', 'ij']\n",
      "Missing connections are [['a', 'g'], ['g', 'h'], ['g', 'h'], ['g', 'h'], ['g', 'h'], ['g', 'h'], ['g', 'h'], ['g', 'h'], ['g', 'h'], ['g', 'h'], ['g', 'h'], ['g', 'h'], ['g', 'h'], ['g', 'h'], ['g', 'h'], ['g', 'h'], ['g', 'h'], ['g', 'h'], ['g', 'h'], ['g', 'h'], ['g', 'h'], ['g', 'h'], ['g', 'h'], ['e', 'l'], ['g', 'h'], ['g', 'h'], ['g', 'h'], ['g', 'h'], ['g', 'l'], ['b', 'm'], ['g', 'h'], ['g', 'h'], ['g', 'h'], ['g', 'h'], ['g', 'h'], ['g', 'h'], ['g', 'h'], ['g', 'h'], ['i', 'l'], ['g', 'h'], ['g', 'h'], ['g', 'h'], ['g', 'h'], ['g', 'h'], ['g', 'h'], ['i', 'n'], ['g', 'h'], ['g', 'h']]\n",
      "Length of IBM compiled circuit with fixes is: 83970\n"
     ]
    },
    {
     "name": "stderr",
     "output_type": "stream",
     "text": [
      "C:\\Users\\krylo\\Anaconda3\\lib\\site-packages\\marshmallow\\schema.py:364: ChangedInMarshmallow3Warning: strict=False is not recommended. In marshmallow 3.0, schemas will always be strict. See https://marshmallow.readthedocs.io/en/latest/upgrading.html#schemas-are-always-strict\n",
      "  ChangedInMarshmallow3Warning\n"
     ]
    },
    {
     "name": "stdout",
     "output_type": "stream",
     "text": [
      "{'10111000010000': 300}\n",
      "ERROR APPEARED\n"
     ]
    },
    {
     "ename": "SystemError",
     "evalue": "",
     "output_type": "error",
     "traceback": [
      "\u001b[1;31m---------------------------------------------------------------------------\u001b[0m",
      "\u001b[1;31mSystemError\u001b[0m                               Traceback (most recent call last)",
      "\u001b[1;32m<ipython-input-4-155c7ce2bd40>\u001b[0m in \u001b[0;36m<module>\u001b[1;34m\u001b[0m\n\u001b[0;32m      3\u001b[0m \u001b[1;31m#if testFromFile(filename) == 0:\u001b[0m\u001b[1;33m\u001b[0m\u001b[1;33m\u001b[0m\u001b[1;33m\u001b[0m\u001b[0m\n\u001b[0;32m      4\u001b[0m \u001b[0mfileName\u001b[0m \u001b[1;33m=\u001b[0m \u001b[0mtestDir\u001b[0m\u001b[1;33m+\u001b[0m\u001b[0mfileName\u001b[0m\u001b[1;33m\u001b[0m\u001b[1;33m\u001b[0m\u001b[0m\n\u001b[1;32m----> 5\u001b[1;33m \u001b[0mbigFunction\u001b[0m\u001b[1;33m(\u001b[0m\u001b[0mfileName\u001b[0m\u001b[1;33m)\u001b[0m\u001b[1;33m\u001b[0m\u001b[1;33m\u001b[0m\u001b[0m\n\u001b[0m",
      "\u001b[1;32m<ipython-input-3-7e32d4cf7433>\u001b[0m in \u001b[0;36mbigFunction\u001b[1;34m(fileName)\u001b[0m\n\u001b[0;32m     59\u001b[0m                 \u001b[0mfinalLayout\u001b[0m \u001b[1;33m=\u001b[0m \u001b[0mdeepcopy\u001b[0m\u001b[1;33m(\u001b[0m\u001b[0mtempLayout\u001b[0m\u001b[1;33m)\u001b[0m\u001b[1;33m\u001b[0m\u001b[1;33m\u001b[0m\u001b[0m\n\u001b[0;32m     60\u001b[0m                 \u001b[0mleastCost\u001b[0m \u001b[1;33m=\u001b[0m \u001b[0mtempCost\u001b[0m\u001b[1;33m\u001b[0m\u001b[1;33m\u001b[0m\u001b[0m\n\u001b[1;32m---> 61\u001b[1;33m             \u001b[0mmeasureToVerifyOutputWtihChanges\u001b[0m\u001b[1;33m(\u001b[0m\u001b[0mqr\u001b[0m\u001b[1;33m,\u001b[0m\u001b[0mcr\u001b[0m\u001b[1;33m,\u001b[0m\u001b[0mqc\u001b[0m\u001b[1;33m,\u001b[0m\u001b[0mioClass\u001b[0m\u001b[1;33m,\u001b[0m\u001b[0mibmLayout\u001b[0m\u001b[1;33m,\u001b[0m\u001b[0mi\u001b[0m\u001b[1;33m)\u001b[0m\u001b[1;33m\u001b[0m\u001b[1;33m\u001b[0m\u001b[0m\n\u001b[0m\u001b[0;32m     62\u001b[0m             \u001b[0mctg\u001b[0m\u001b[1;33m.\u001b[0m\u001b[0mlayOutQubits\u001b[0m\u001b[1;33m(\u001b[0m\u001b[1;33m)\u001b[0m\u001b[1;33m\u001b[0m\u001b[1;33m\u001b[0m\u001b[0m\n\u001b[0;32m     63\u001b[0m             \u001b[0mepoch\u001b[0m \u001b[1;33m=\u001b[0m \u001b[0mepoch\u001b[0m\u001b[1;33m+\u001b[0m\u001b[1;36m1\u001b[0m\u001b[1;33m\u001b[0m\u001b[1;33m\u001b[0m\u001b[0m\n",
      "\u001b[1;32m<ipython-input-3-7e32d4cf7433>\u001b[0m in \u001b[0;36mmeasureToVerifyOutputWtihChanges\u001b[1;34m(qr, cr, qc, ioClass, ibmLayout, i)\u001b[0m\n\u001b[0;32m    119\u001b[0m     \u001b[1;32mif\u001b[0m \u001b[0merror\u001b[0m \u001b[1;33m!=\u001b[0m \u001b[1;36m0\u001b[0m \u001b[1;33m:\u001b[0m\u001b[1;33m\u001b[0m\u001b[1;33m\u001b[0m\u001b[0m\n\u001b[0;32m    120\u001b[0m         \u001b[0mprint\u001b[0m\u001b[1;33m(\u001b[0m\u001b[1;34m\"ERROR APPEARED\"\u001b[0m\u001b[1;33m)\u001b[0m\u001b[1;33m\u001b[0m\u001b[1;33m\u001b[0m\u001b[0m\n\u001b[1;32m--> 121\u001b[1;33m         \u001b[1;32mraise\u001b[0m \u001b[0mSystemError\u001b[0m\u001b[1;33m\u001b[0m\u001b[1;33m\u001b[0m\u001b[0m\n\u001b[0m\u001b[0;32m    122\u001b[0m     \u001b[1;31m#plot_histogram(result.get_counts())\u001b[0m\u001b[1;33m\u001b[0m\u001b[1;33m\u001b[0m\u001b[1;33m\u001b[0m\u001b[0m\n",
      "\u001b[1;31mSystemError\u001b[0m: "
     ]
    }
   ],
   "source": [
    "goodExamples = [\"sym6_63\",\"0410184\",\"ex1\",\"hwb4_52\",\"parity\"]\n",
    "fileName=goodExamples[0]\n",
    "#if testFromFile(filename) == 0:\n",
    "fileName = testDir+fileName\n",
    "bigFunction(fileName)"
   ]
  },
  {
   "cell_type": "code",
   "execution_count": null,
   "metadata": {},
   "outputs": [],
   "source": []
  }
 ],
 "metadata": {
  "kernelspec": {
   "display_name": "Python 3",
   "language": "python",
   "name": "python3"
  },
  "language_info": {
   "codemirror_mode": {
    "name": "ipython",
    "version": 3
   },
   "file_extension": ".py",
   "mimetype": "text/x-python",
   "name": "python",
   "nbconvert_exporter": "python",
   "pygments_lexer": "ipython3",
   "version": "3.7.2"
  }
 },
 "nbformat": 4,
 "nbformat_minor": 2
}
