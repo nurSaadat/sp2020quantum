{
 "cells": [
  {
   "cell_type": "code",
   "execution_count": 1,
   "metadata": {},
   "outputs": [
    {
     "name": "stderr",
     "output_type": "stream",
     "text": [
      "/usr/lib64/python3.6/site-packages/marshmallow/schema.py:364: ChangedInMarshmallow3Warning: strict=False is not recommended. In marshmallow 3.0, schemas will always be strict. See https://marshmallow.readthedocs.io/en/latest/upgrading.html#schemas-are-always-strict\n",
      "  ChangedInMarshmallow3Warning\n"
     ]
    }
   ],
   "source": [
    "from qiskit import ClassicalRegister, QuantumRegister\n",
    "from qiskit import QuantumCircuit,compile, execute,IBMQ\n",
    "from qiskit import BasicAer\n",
    "from qiskit.tools.visualization import circuit_drawer\n",
    "from qiskit.tools.visualization import plot_histogram\n",
    "from qiskit.providers.ibmq import least_busy\n",
    "from math import pi\n",
    "import matplotlib.pyplot as plt\n",
    "import sys\n",
    "from qiskit.tools.visualization import circuit_drawer\n",
    "from parseRealization import *\n",
    "%matplotlib inline\n",
    "testDir=\"./tests/\""
   ]
  },
  {
   "cell_type": "code",
   "execution_count": 2,
   "metadata": {},
   "outputs": [
    {
     "name": "stdout",
     "output_type": "stream",
     "text": [
      "[[1, 0], [2, 0], [2, 1], [3, 2], [3, 4], [4, 2]]\n"
     ]
    }
   ],
   "source": [
    "#select a backend\n",
    "IBMQ.load_accounts()\n",
    "backends = IBMQ.backends(simulator=False,filters=lambda x: x.configuration().n_qubits > 4)\n",
    "least_busy =least_busy(backends)\n",
    "#print(available)\n",
    "#least_busy = BasicAer.get_backend('qasm_simulator')\n",
    "#least_busy = IBMQ.get_backend('ibmq_16_melbourne')\n",
    "couplingMap = least_busy.configuration().coupling_map\n",
    "print(couplingMap)\n",
    "qubitsSize = least_busy.configuration().n_qubits\n"
   ]
  },
  {
   "cell_type": "code",
   "execution_count": 3,
   "metadata": {},
   "outputs": [],
   "source": [
    "def bigFunction(fileName):\n",
    "    ioClass = readCircuitInformation(fileName) \n",
    "    answers = ioClass.getKmap()\n",
    "    size = ioClass.getSize()\n",
    "    ioClass.readGatesFromFile(fileName)\n",
    "    backend_sim = BasicAer.get_backend('qasm_simulator')\n",
    "    error_count = 0\n",
    "    ctg = CircuitTransitionGraph()\n",
    "    print(ctg.transformCoupling(couplingMap))\n",
    "    ctg.setSize(size)\n",
    "    for i in range(0,2):\n",
    "        #This part corresponds for part of experiment without minimal or no changes\n",
    "        qr,cr,qc = ioClass.createCircuitAndSetInput(i)\n",
    "        qc,qr = ctg.readGatesFromIOClass(qr,qc, ioClass)\n",
    "        measureFidelityWithoutChanges(qr,cr,qc)\n",
    "        \n",
    "        #This part corresponds for part of experiment after significant changes\n",
    "        qr,cr,qc = ioClass.createCircuitAndSetInput(i)\n",
    "        ctg = fixTheStuff(ctg)\n",
    "        #This one needs to comply with changes you did\n",
    "        qc,qr = ctg.readFixedGatesFromCtg(qr,qc)\n",
    "        measureFidelityWithChanges(qr,cr,qc)\n",
    "    \n",
    "def fixTheStuff(ctg):\n",
    "    print(\"Missing connections are\",ctg.getMissingConnections())\n",
    "    #This one to fix the changes... fixthemissingedges connects stuff around. did not test though\n",
    "    ctg.fixMissingEdges()\n",
    "    print(\"FIxing the stuff\")\n",
    "    return ctg\n",
    "\n",
    "\n",
    "def measureFidelityWithoutChanges(qr,cr,qc):\n",
    "    least_busy = BasicAer.get_backend('qasm_simulator')\n",
    "    qc.measure(qr,cr)\n",
    "    job = execute(qc,least_busy,shots=200)\n",
    "    result = job.result()\n",
    "    print(result.get_counts())\n",
    "    #plot_histogram(result.get_counts())\n",
    "\n",
    "    \n",
    "#This needs to be implemented    \n",
    "def measureFidelityWithChanges(qr,cr,qc):\n",
    "    least_busy = BasicAer.get_backend('qasm_simulator')\n",
    "    qc.measure(qr,cr)\n",
    "    job = execute(qc,least_busy,shots=200)\n",
    "    result = job.result()\n",
    "    print(result.get_counts())\n",
    "    #plot_histogram(result.get_counts())\n"
   ]
  },
  {
   "cell_type": "code",
   "execution_count": 4,
   "metadata": {},
   "outputs": [
    {
     "name": "stdout",
     "output_type": "stream",
     "text": [
      "./tests/ham3_28.pla\n",
      "The constants are set to .constants ---\n",
      "\n",
      "The circuit has no garbage lines in it or file parsed incorrectly, check ioclass\n",
      "The circuit has no constant inputs lines in it or file parsed incorrectly, check ioclass\n"
     ]
    },
    {
     "ename": "NameError",
     "evalue": "name 'lement' is not defined",
     "output_type": "error",
     "traceback": [
      "\u001b[0;31m---------------------------------------------------------------------------\u001b[0m",
      "\u001b[0;31mNameError\u001b[0m                                 Traceback (most recent call last)",
      "\u001b[0;32m<ipython-input-4-28fbe0e6c789>\u001b[0m in \u001b[0;36m<module>\u001b[0;34m\u001b[0m\n\u001b[1;32m      2\u001b[0m \u001b[0;31m#if testFromFile(filename) == 0:\u001b[0m\u001b[0;34m\u001b[0m\u001b[0;34m\u001b[0m\u001b[0;34m\u001b[0m\u001b[0m\n\u001b[1;32m      3\u001b[0m \u001b[0mfileName\u001b[0m \u001b[0;34m=\u001b[0m \u001b[0mtestDir\u001b[0m\u001b[0;34m+\u001b[0m\u001b[0mfileName\u001b[0m\u001b[0;34m\u001b[0m\u001b[0;34m\u001b[0m\u001b[0m\n\u001b[0;32m----> 4\u001b[0;31m \u001b[0mbigFunction\u001b[0m\u001b[0;34m(\u001b[0m\u001b[0mfileName\u001b[0m\u001b[0;34m)\u001b[0m\u001b[0;34m\u001b[0m\u001b[0;34m\u001b[0m\u001b[0m\n\u001b[0m",
      "\u001b[0;32m<ipython-input-3-16d463673c6f>\u001b[0m in \u001b[0;36mbigFunction\u001b[0;34m(fileName)\u001b[0m\n\u001b[1;32m      7\u001b[0m     \u001b[0merror_count\u001b[0m \u001b[0;34m=\u001b[0m \u001b[0;36m0\u001b[0m\u001b[0;34m\u001b[0m\u001b[0;34m\u001b[0m\u001b[0m\n\u001b[1;32m      8\u001b[0m     \u001b[0mctg\u001b[0m \u001b[0;34m=\u001b[0m \u001b[0mCircuitTransitionGraph\u001b[0m\u001b[0;34m(\u001b[0m\u001b[0;34m)\u001b[0m\u001b[0;34m\u001b[0m\u001b[0;34m\u001b[0m\u001b[0m\n\u001b[0;32m----> 9\u001b[0;31m     \u001b[0mprint\u001b[0m\u001b[0;34m(\u001b[0m\u001b[0mctg\u001b[0m\u001b[0;34m.\u001b[0m\u001b[0mtransformCoupling\u001b[0m\u001b[0;34m(\u001b[0m\u001b[0mcouplingMap\u001b[0m\u001b[0;34m)\u001b[0m\u001b[0;34m)\u001b[0m\u001b[0;34m\u001b[0m\u001b[0;34m\u001b[0m\u001b[0m\n\u001b[0m\u001b[1;32m     10\u001b[0m     \u001b[0mctg\u001b[0m\u001b[0;34m.\u001b[0m\u001b[0msetSize\u001b[0m\u001b[0;34m(\u001b[0m\u001b[0msize\u001b[0m\u001b[0;34m)\u001b[0m\u001b[0;34m\u001b[0m\u001b[0;34m\u001b[0m\u001b[0m\n\u001b[1;32m     11\u001b[0m     \u001b[0;32mfor\u001b[0m \u001b[0mi\u001b[0m \u001b[0;32min\u001b[0m \u001b[0mrange\u001b[0m\u001b[0;34m(\u001b[0m\u001b[0;36m0\u001b[0m\u001b[0;34m,\u001b[0m\u001b[0;36m2\u001b[0m\u001b[0;34m)\u001b[0m\u001b[0;34m:\u001b[0m\u001b[0;34m\u001b[0m\u001b[0;34m\u001b[0m\u001b[0m\n",
      "\u001b[0;32m~/codes/circuit-graph/CircuitTransitionGraph.py\u001b[0m in \u001b[0;36mtransformCoupling\u001b[0;34m(self, maList)\u001b[0m\n\u001b[1;32m    201\u001b[0m     \u001b[0;32mdef\u001b[0m \u001b[0mtransformCoupling\u001b[0m\u001b[0;34m(\u001b[0m\u001b[0mself\u001b[0m\u001b[0;34m,\u001b[0m\u001b[0mmaList\u001b[0m\u001b[0;34m)\u001b[0m\u001b[0;34m:\u001b[0m\u001b[0;34m\u001b[0m\u001b[0;34m\u001b[0m\u001b[0m\n\u001b[1;32m    202\u001b[0m         \u001b[0;32mfor\u001b[0m \u001b[0melement\u001b[0m \u001b[0;32min\u001b[0m  \u001b[0mmaList\u001b[0m\u001b[0;34m:\u001b[0m\u001b[0;34m\u001b[0m\u001b[0;34m\u001b[0m\u001b[0m\n\u001b[0;32m--> 203\u001b[0;31m             \u001b[0;32mif\u001b[0m \u001b[0;34m(\u001b[0m\u001b[0mlement\u001b[0m\u001b[0;34m[\u001b[0m\u001b[0;36m0\u001b[0m\u001b[0;34m]\u001b[0m \u001b[0;34m>\u001b[0m \u001b[0melement\u001b[0m\u001b[0;34m[\u001b[0m\u001b[0;36m1\u001b[0m\u001b[0;34m]\u001b[0m\u001b[0;34m)\u001b[0m\u001b[0;34m:\u001b[0m\u001b[0;34m\u001b[0m\u001b[0;34m\u001b[0m\u001b[0m\n\u001b[0m\u001b[1;32m    204\u001b[0m                 \u001b[0mkey\u001b[0m \u001b[0;34m=\u001b[0m \u001b[0mstr\u001b[0m\u001b[0;34m(\u001b[0m\u001b[0mchr\u001b[0m\u001b[0;34m(\u001b[0m\u001b[0melement\u001b[0m\u001b[0;34m[\u001b[0m\u001b[0;36m1\u001b[0m\u001b[0;34m]\u001b[0m\u001b[0;34m+\u001b[0m\u001b[0mord\u001b[0m\u001b[0;34m(\u001b[0m\u001b[0;34m\"a\"\u001b[0m\u001b[0;34m)\u001b[0m\u001b[0;34m)\u001b[0m\u001b[0;34m)\u001b[0m\u001b[0;34m+\u001b[0m\u001b[0mstr\u001b[0m\u001b[0;34m(\u001b[0m\u001b[0mchr\u001b[0m\u001b[0;34m(\u001b[0m\u001b[0melement\u001b[0m\u001b[0;34m[\u001b[0m\u001b[0;36m0\u001b[0m\u001b[0;34m]\u001b[0m\u001b[0;34m+\u001b[0m\u001b[0mord\u001b[0m\u001b[0;34m(\u001b[0m\u001b[0;34m\"a\"\u001b[0m\u001b[0;34m)\u001b[0m\u001b[0;34m)\u001b[0m\u001b[0;34m)\u001b[0m\u001b[0;34m\u001b[0m\u001b[0;34m\u001b[0m\u001b[0m\n\u001b[1;32m    205\u001b[0m             \u001b[0;32melse\u001b[0m\u001b[0;34m:\u001b[0m\u001b[0;34m\u001b[0m\u001b[0;34m\u001b[0m\u001b[0m\n",
      "\u001b[0;31mNameError\u001b[0m: name 'lement' is not defined"
     ]
    }
   ],
   "source": [
    "fileName=\"ham3_28\"\n",
    "#if testFromFile(filename) == 0:\n",
    "fileName = testDir+fileName\n",
    "bigFunction(fileName)"
   ]
  },
  {
   "cell_type": "code",
   "execution_count": null,
   "metadata": {},
   "outputs": [],
   "source": []
  }
 ],
 "metadata": {
  "kernelspec": {
   "display_name": "Python 3",
   "language": "python",
   "name": "python3"
  },
  "language_info": {
   "codemirror_mode": {
    "name": "ipython",
    "version": 3
   },
   "file_extension": ".py",
   "mimetype": "text/x-python",
   "name": "python",
   "nbconvert_exporter": "python",
   "pygments_lexer": "ipython3",
   "version": "3.6.7"
  }
 },
 "nbformat": 4,
 "nbformat_minor": 2
}
