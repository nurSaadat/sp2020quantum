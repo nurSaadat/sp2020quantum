{
 "cells": [
  {
   "cell_type": "code",
   "execution_count": 1,
   "metadata": {},
   "outputs": [
    {
     "name": "stderr",
     "output_type": "stream",
     "text": [
      "C:\\Users\\krylo\\Anaconda3\\lib\\site-packages\\marshmallow\\schema.py:364: ChangedInMarshmallow3Warning: strict=False is not recommended. In marshmallow 3.0, schemas will always be strict. See https://marshmallow.readthedocs.io/en/latest/upgrading.html#schemas-are-always-strict\n",
      "  ChangedInMarshmallow3Warning\n"
     ]
    }
   ],
   "source": [
    "from qiskit import ClassicalRegister, QuantumRegister\n",
    "from qiskit import QuantumCircuit,compile, execute,IBMQ\n",
    "from qiskit import BasicAer\n",
    "from qiskit.tools.visualization import circuit_drawer\n",
    "from qiskit.tools.visualization import plot_histogram\n",
    "from qiskit.providers.ibmq import least_busy\n",
    "from math import pi\n",
    "from qiskit.mapper._layout import Layout as l\n",
    "from qiskit.tools.compiler import compile as qcompile\n",
    "import matplotlib.pyplot as plt\n",
    "import sys\n",
    "from qiskit.tools.visualization import circuit_drawer\n",
    "from parseRealization import *\n",
    "%matplotlib inline\n",
    "testDir=\"./tests/\""
   ]
  },
  {
   "cell_type": "code",
   "execution_count": 2,
   "metadata": {},
   "outputs": [
    {
     "name": "stdout",
     "output_type": "stream",
     "text": [
      "[<IBMQBackend('ibmqx4') from IBMQ()>, <IBMQBackend('ibmq_16_melbourne') from IBMQ()>]\n",
      "[[1, 0], [1, 2], [2, 3], [4, 3], [4, 10], [5, 4], [5, 6], [5, 9], [6, 8], [7, 8], [9, 8], [9, 10], [11, 3], [11, 10], [11, 12], [12, 2], [13, 1], [13, 12]]\n"
     ]
    }
   ],
   "source": [
    "#select a backend\n",
    "IBMQ.load_accounts()\n",
    "backends = IBMQ.backends(simulator=False,filters=lambda x: x.configuration().n_qubits > 4)\n",
    "print(backends)\n",
    "#print(available)\n",
    "#least_busy = BasicAer.get_backend('qasm_simulator')\n",
    "least_busy = IBMQ.get_backend('ibmq_16_melbourne')\n",
    "couplingMap = least_busy.configuration().coupling_map\n",
    "print(couplingMap)\n",
    "qubitsSize = least_busy.configuration().n_qubits\n"
   ]
  },
  {
   "cell_type": "code",
   "execution_count": 3,
   "metadata": {},
   "outputs": [],
   "source": [
    "def prepareBadLayout(qReg):\n",
    "    global couplingMap\n",
    "    \n",
    "    t = {    (qReg.name, 1): (qReg.name, 0),(qReg.name, 0): (qReg.name, 1), (qReg.name, 2): (qReg.name, 2)}\n",
    "    q = l(t)\n",
    "    return q\n",
    "\n",
    "def bigFunction(fileName):\n",
    "    ioClass = readCircuitInformation(fileName) \n",
    "    answers = ioClass.getKmap()\n",
    "    size = ioClass.getSize()\n",
    "    ioClass.readGatesFromFile(fileName)\n",
    "    backend_sim = BasicAer.get_backend('qasm_simulator')\n",
    "    error_count = 0\n",
    "    \n",
    "    ctg = CircuitTransitionGraph()\n",
    "    print(ctg.transformCoupling(couplingMap))\n",
    "    ctg.setSize(size)\n",
    "\n",
    "    for i in range(0,1):\n",
    "        #This part corresponds for part of experiment without minimal or no changes\n",
    "        qr,cr,qc = ioClass.createCircuitAndSetInput(i)\n",
    "        qc,qr = ctg.readGatesFromIOClass(qr,qc, ioClass)\n",
    "        print(\"Coupling is\",ctg.coupling)\n",
    "        ctg.layOutQubits()\n",
    "        badLayout = prepareBadLayout(qr)\n",
    "        measureFidelityWithoutChanges(qr,cr,qc,badLayout)\n",
    "        \n",
    "        #This part corresponds for part of experiment after significant changes\n",
    "        qr,cr,qc = ioClass.createCircuitAndSetInput(i)\n",
    "        ctg = fixTheStuff(ctg)\n",
    "        #This one needs to comply with changes you did\n",
    "        qc,qr = ctg.readFixedGatesFromCtg(qr,qc)\n",
    "        measureFidelityWithChanges(qr,cr,qc)\n",
    "    \n",
    "def fixTheStuff(ctg):\n",
    "    print(\"Missing connections are\",ctg.getMissingConnections())\n",
    "    #This one to fix the changes... fixthemissingedges connects stuff around. did not test though\n",
    "    ctg.fixMissingEdges()\n",
    "    print(\"FIxing the stuff\")\n",
    "    return ctg\n",
    "\n",
    "\n",
    "def measureFidelityWithoutChanges(qr,cr,qc,bad_layout):\n",
    "    #least_busy = BasicAer.get_backend('qasm_simulator')\n",
    "    qc.measure(qr,cr)\n",
    "    qobj = qcompile(qc,least_busy,initial_layout=bad_layout,pass_manager=None)\n",
    "    #This line provides print of the compiled circuit qasm\n",
    "    #print(qobj.experiments[0].header.as_dict()[\"compiled_circuit_qasm\"])\n",
    "    \n",
    "    #job = execute(qc,least_busy,shots=200)\n",
    "    #result = job.result()\n",
    "    #print(result.get_counts())\n",
    "    #plot_histogram(result.get_counts())\n",
    "\n",
    "    \n",
    "#This needs to be implemented    \n",
    "def measureFidelityWithChanges(qr,cr,qc):\n",
    "    least_busy = BasicAer.get_backend('qasm_simulator')\n",
    "    qc.measure(qr,cr)\n",
    "    job = execute(qc,least_busy,shots=200)\n",
    "    result = job.result()\n",
    "    print(result.get_counts())\n",
    "    #plot_histogram(result.get_counts())\n"
   ]
  },
  {
   "cell_type": "code",
   "execution_count": 4,
   "metadata": {},
   "outputs": [
    {
     "name": "stdout",
     "output_type": "stream",
     "text": [
      "./tests/ham3_28.pla\n",
      "The constants are set to .constants ---\n",
      "\n",
      "The circuit has no garbage lines in it or file parsed incorrectly, check ioclass\n",
      "The circuit has no constant inputs lines in it or file parsed incorrectly, check ioclass\n",
      "['ab', 'bc', 'cd', 'de', 'ek', 'ef', 'fg', 'fj', 'gi', 'hi', 'ij', 'jk', 'dl', 'kl', 'lm', 'cm', 'bn', 'mn']\n",
      "Coupling is {'b': {'a', 'c', 'n'}, 'a': {'b'}, 'c': {'m', 'd', 'b'}, 'd': {'c', 'e', 'l'}, 'e': {'d', 'k', 'f'}, 'k': {'j', 'e', 'l'}, 'f': {'g', 'j', 'e'}, 'g': {'f', 'i'}, 'j': {'k', 'f', 'i'}, 'i': {'g', 'j', 'h'}, 'h': {'i'}, 'l': {'m', 'd', 'k'}, 'm': {'c', 'n', 'l'}, 'n': {'m', 'b'}}\n",
      "SELFLAYOUTOFQUBIT ('c', 2)\n",
      "Final layout is {'c': 'm', 'a': 'c', 'b': 'l'}\n",
      "MaDAGCircuit is <qiskit.dagcircuit._dagcircuit.DAGCircuit object at 0x00000199D35DF0B8>\n",
      "CouplingGraph is [(1, 0), (1, 2), (2, 3), (4, 3), (4, 10), (5, 4), (5, 6), (5, 9), (6, 8), (9, 8), (9, 10), (7, 8), (11, 3), (11, 10), (11, 12), (12, 2), (13, 1), (13, 12)]\n",
      "Circuit_graph is  <qiskit.dagcircuit._dagcircuit.DAGCircuit object at 0x00000199D35DF0B8>\n",
      "Final Layout is {(QuantumRegister(3, 'q0'), 0): (QuantumRegister(14, 'q'), 1), (QuantumRegister(3, 'q0'), 1): (QuantumRegister(14, 'q'), 0), (QuantumRegister(3, 'q0'), 2): (QuantumRegister(14, 'q'), 2)}\n",
      "MaDAGCircuit is <qiskit.dagcircuit._dagcircuit.DAGCircuit object at 0x00000199D375FD30>\n",
      "Self skeleton is ['ab', 'bc', 'ab', 'bc', 'bc', 'ab', 'bc', 'bc', 'ab', 'ab', 'bc', 'ab', 'bc', 'bc', 'ac', 'bc']\n",
      "Missing connections are [['a', 'c']]\n",
      "b\n",
      "c\n",
      "d\n",
      "e\n",
      "k\n",
      "f\n",
      "j\n",
      "i\n",
      "l\n",
      "m\n",
      "g\n",
      "n\n",
      "a\n",
      "h\n",
      "Paths to a c\n",
      "Trace is\n",
      "[['a', 'b', 'c'], ['a', 'b', 'n', 'm', 'c'], ['a', 'b', 'n', 'm', 'l', 'd', 'c'], ['a', 'b', 'n', 'm', 'l', 'k', 'j', 'f', 'e', 'd', 'c'], ['a', 'b', 'n', 'm', 'l', 'k', 'j', 'i', 'g', 'f', 'e', 'd', 'c'], ['a', 'b', 'n', 'm', 'l', 'k', 'e', 'd', 'c']]\n",
      "['c', 'b'] ['a', 'c']\n",
      "['b', 'c'] ['a', 'c']\n",
      "['a', 'c'] ['a', 'c']\n",
      "replaceTo ['a', 'b', 'c']\n",
      "sw a b\n",
      "['a', 'b']\n",
      "fixed skeleton ['ab', 'bc', 'ab', 'bc', 'bc', 'ab', 'bc', 'bc', 'ab', 'ab', 'bc', 'ab', 'bc', 'bc', 'ab', 'bc']\n",
      "FIxing the stuff\n",
      "MaDAGCircuit is <qiskit.dagcircuit._dagcircuit.DAGCircuit object at 0x00000199D3730518>\n",
      "MaDAGCircuit is <qiskit.dagcircuit._dagcircuit.DAGCircuit object at 0x00000199D38CFB70>\n",
      "{'000': 200}\n"
     ]
    },
    {
     "name": "stderr",
     "output_type": "stream",
     "text": [
      "C:\\Users\\krylo\\Anaconda3\\lib\\site-packages\\marshmallow\\schema.py:364: ChangedInMarshmallow3Warning: strict=False is not recommended. In marshmallow 3.0, schemas will always be strict. See https://marshmallow.readthedocs.io/en/latest/upgrading.html#schemas-are-always-strict\n",
      "  ChangedInMarshmallow3Warning\n"
     ]
    }
   ],
   "source": [
    "fileName=\"ham3_28\"\n",
    "#if testFromFile(filename) == 0:\n",
    "fileName = testDir+fileName\n",
    "bigFunction(fileName)"
   ]
  },
  {
   "cell_type": "code",
   "execution_count": null,
   "metadata": {},
   "outputs": [],
   "source": []
  },
  {
   "cell_type": "code",
   "execution_count": null,
   "metadata": {},
   "outputs": [],
   "source": []
  }
 ],
 "metadata": {
  "kernelspec": {
   "display_name": "Python 3",
   "language": "python",
   "name": "python3"
  },
  "language_info": {
   "codemirror_mode": {
    "name": "ipython",
    "version": 3
   },
   "file_extension": ".py",
   "mimetype": "text/x-python",
   "name": "python",
   "nbconvert_exporter": "python",
   "pygments_lexer": "ipython3",
   "version": "3.7.1"
  }
 },
 "nbformat": 4,
 "nbformat_minor": 2
}
