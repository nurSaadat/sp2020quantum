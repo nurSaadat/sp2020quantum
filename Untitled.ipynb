{
 "cells": [
  {
   "cell_type": "code",
   "execution_count": 4,
   "metadata": {},
   "outputs": [
    {
     "name": "stderr",
     "output_type": "stream",
     "text": [
      "C:\\Users\\krylo\\Anaconda3\\lib\\site-packages\\qiskit\\tools\\visualization\\_circuit_visualization.py:206: DeprecationWarning: The current behavior for the default output will change in a future release. Instead of trying latex and falling back to mpl on failure it will just use \"text\" by default\n",
      "  '\"text\" by default', DeprecationWarning)\n"
     ]
    },
    {
     "name": "stdout",
     "output_type": "stream",
     "text": [
      "OPENQASM 2.0;\n",
      "include \"qelib1.inc\";\n",
      "qreg q3[2];\n",
      "creg c3[2];\n",
      "tdg q3[1];\n",
      "h q3[0];\n",
      "cx q3[0],q3[1];\n",
      "t q3[1];\n",
      "tdg q3[0];\n",
      "cx q3[0],q3[1];\n",
      "h q3[0];\n",
      "tdg q3[1];\n",
      "h q3[0];\n",
      "cx q3[0],q3[1];\n",
      "t q3[1];\n",
      "tdg q3[0];\n",
      "cx q3[0],q3[1];\n",
      "h q3[0];\n",
      "measure q3[0] -> c3[0];\n",
      "measure q3[1] -> c3[1];\n",
      "\n",
      "{'00': 1024}\n"
     ]
    }
   ],
   "source": [
    "from qiskit import *\n",
    "from math import pi\n",
    "from qiskit.tools.visualization import circuit_drawer\n",
    "qr = QuantumRegister(2)\n",
    "cr = ClassicalRegister(2)\n",
    "qc  = QuantumCircuit(qr,cr)\n",
    "control = 0\n",
    "target = 1\n",
    "qc.tdg(qr[target])\n",
    "qc.h(qr[control])\n",
    "qc.cx(qr[control],qr[target])\n",
    "qc.t(qr[target])\n",
    "qc.tdg(qr[control])\n",
    "qc.cx(qr[control],qr[target])\n",
    "qc.h(qr[control])\n",
    "\n",
    "backend = BasicAer.get_backend('qasm_simulator')\n",
    "qc.measure(qr,cr)\n",
    "circuit_drawer(qc).show()\n",
    "print(qc.qasm())\n",
    "c = execute(qc,backend).result().get_counts()\n",
    "print(c)\n"
   ]
  },
  {
   "cell_type": "code",
   "execution_count": null,
   "metadata": {},
   "outputs": [],
   "source": []
  },
  {
   "cell_type": "code",
   "execution_count": null,
   "metadata": {},
   "outputs": [],
   "source": []
  }
 ],
 "metadata": {
  "kernelspec": {
   "display_name": "Python (QiskitDevenv)",
   "language": "python",
   "name": "qiskitdevenv"
  },
  "language_info": {
   "codemirror_mode": {
    "name": "ipython",
    "version": 3
   },
   "file_extension": ".py",
   "mimetype": "text/x-python",
   "name": "python",
   "nbconvert_exporter": "python",
   "pygments_lexer": "ipython3",
   "version": "3.7.1"
  }
 },
 "nbformat": 4,
 "nbformat_minor": 2
}
