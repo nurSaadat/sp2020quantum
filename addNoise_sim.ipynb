{
 "cells": [
  {
   "cell_type": "code",
   "execution_count": 1,
   "metadata": {},
   "outputs": [],
   "source": [
    "import numpy as np\n",
    "import time\n",
    "# importing Qiskit\n",
    "from qiskit import Aer, IBMQ\n",
    "from qiskit import QuantumRegister, ClassicalRegister, QuantumCircuit\n",
    "from qiskit import register, execute\n",
    "\n",
    "# import backend utilities\n",
    "from qiskit.backends import JobStatus\n",
    "\n",
    "# import tomography library\n",
    "import qiskit.tools.qcvv.tomography as tomo\n",
    "\n",
    "# useful additional packages \n",
    "from qiskit.tools.visualization import plot_state\n",
    "from qiskit.tools.qi.qi import *\n",
    "from qiskit.wrapper.jupyter import *\n",
    "from qiskit.backends.ibmq import least_busy\n",
    "from CircuitTransitionGraph import *\n",
    "\n",
    "# import state tomography functions\n",
    "from qiskit.tools.visualization import plot_histogram, plot_state\n",
    "from parseRealization import *\n",
    "%matplotlib inline\n",
    "global testDir\n",
    "global ctg\n",
    "testDir=\"./tests/\""
   ]
  },
  {
   "cell_type": "code",
   "execution_count": 2,
   "metadata": {},
   "outputs": [
    {
     "name": "stdout",
     "output_type": "stream",
     "text": [
      "0.9539711475372314\n",
      "0.0004253387451171875\n",
      "0.000453948974609375\n",
      "0.00028777122497558594\n"
     ]
    }
   ],
   "source": [
    "# Load saved IBMQ accounts\n",
    "start = time.time()\n",
    "IBMQ.load_accounts()\n",
    "end = time.time()\n",
    "print(end-start)\n",
    "#available = IBMQ.backends(operational=True, simulator=False)\n",
    "#print(available)\n",
    "start = time.time()\n",
    "print(-end+start)\n",
    "#least_busy = least_busy(available)\n",
    "\n",
    "\n",
    "least_busy = IBMQ.get_backend('ibmq_16_melbourne')\n",
    "\n",
    "\n",
    "end = time.time()\n",
    "print(end-start)\n",
    "\n",
    "couplingMap = least_busy.configuration()[\"coupling_map\"]\n",
    "start = time.time()\n",
    "print(-end+start)"
   ]
  },
  {
   "cell_type": "code",
   "execution_count": 3,
   "metadata": {},
   "outputs": [
    {
     "name": "stdout",
     "output_type": "stream",
     "text": [
      "OPENQASM 2.0;\n",
      "include \"qelib1.inc\";\n",
      "qreg q0[3];\n",
      "creg c0[3];\n",
      "ccx q0[0],q0[1],q0[2];\n",
      "\n"
     ]
    }
   ],
   "source": [
    "qr = QuantumRegister(3)\n",
    "cr = ClassicalRegister(3)\n",
    "qc = QuantumCircuit(qr,cr)\n",
    "qc.ccx(qr[0],qr[1],qr[2])\n",
    "print(qc.qasm())\n",
    "#job_sim = execute(qc, backend_sim)#,config)\n",
    "#stats_sim = job_sim.result().get_counts()"
   ]
  }
 ],
 "metadata": {
  "kernelspec": {
   "display_name": "Python 3",
   "language": "python",
   "name": "python3"
  },
  "language_info": {
   "codemirror_mode": {
    "name": "ipython",
    "version": 3
   },
   "file_extension": ".py",
   "mimetype": "text/x-python",
   "name": "python",
   "nbconvert_exporter": "python",
   "pygments_lexer": "ipython3",
   "version": "3.6.5"
  }
 },
 "nbformat": 4,
 "nbformat_minor": 2
}
